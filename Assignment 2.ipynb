{
 "cells": [
  {
   "cell_type": "markdown",
   "id": "9ef0a548-326a-4c7b-9c34-7e7183138155",
   "metadata": {},
   "source": [
    "1.What are the two values of the Boolean data type? How do you write them?"
   ]
  },
  {
   "cell_type": "markdown",
   "id": "3610dde3-88fb-4b36-998b-6b26283e4927",
   "metadata": {},
   "source": [
    "Ans: There are two data typee in boolen i.e true and false"
   ]
  },
  {
   "cell_type": "code",
   "execution_count": 4,
   "id": "d661afc1-76d5-4fa8-b1de-efc73d855d94",
   "metadata": {},
   "outputs": [
    {
     "data": {
      "text/plain": [
       "True"
      ]
     },
     "execution_count": 4,
     "metadata": {},
     "output_type": "execute_result"
    }
   ],
   "source": [
    "1 == 1"
   ]
  },
  {
   "cell_type": "code",
   "execution_count": 8,
   "id": "8c692846-5aa1-4031-9ce1-7b6c98dadbff",
   "metadata": {},
   "outputs": [
    {
     "data": {
      "text/plain": [
       "False"
      ]
     },
     "execution_count": 8,
     "metadata": {},
     "output_type": "execute_result"
    }
   ],
   "source": [
    "5<4"
   ]
  },
  {
   "cell_type": "markdown",
   "id": "92318ef0-4f5c-42a4-abe8-50f58fb75e6b",
   "metadata": {},
   "source": [
    "2. What are the three different types of Boolean operators?"
   ]
  },
  {
   "cell_type": "markdown",
   "id": "22deaf57-3f44-4ab4-bef5-94201d429e5c",
   "metadata": {},
   "source": [
    "ANS: there are three Boolean operators i.e AND , OR and NOT operator"
   ]
  },
  {
   "cell_type": "markdown",
   "id": "509da5cb-e59c-445d-bfe9-91f898a75632",
   "metadata": {},
   "source": [
    "3. Make a list of each Boolean operator&#39;s truth tables (i.e. every possible combination of Boolean\n",
    "values for the operator and what it evaluate )."
   ]
  },
  {
   "cell_type": "markdown",
   "id": "7cc8ac8c-ea72-4b35-82a1-a0f76902e372",
   "metadata": {},
   "source": [
    "true and true is true\n",
    "\n",
    "true and false is false\n",
    "\n",
    "false and true is false\n",
    "\n",
    "false and false is false\n",
    "\n",
    "true or true is true\n",
    "\n",
    "true of false is true\n",
    "\n",
    "false or true is true\n",
    "\n",
    "false or false if false\n",
    "\n",
    "not true is false\n",
    "\n",
    "not false is true\n"
   ]
  },
  {
   "cell_type": "markdown",
   "id": "988751e8-9101-455b-a437-e9c1a75b18f4",
   "metadata": {},
   "source": [
    "4. What are the values of the following expressions?\n",
    "(5 &gt; 4) and (3 == 5)\n",
    "\n",
    "not (5 &gt; 4)\n",
    "\n",
    "(5 &gt; 4) or (3 == 5)\n",
    "\n",
    "not ((5 &gt; 4) or (3 == 5))\n",
    "\n",
    "(True and True) and (True == False)\n",
    "\n",
    "(not False) or (not True)"
   ]
  },
  {
   "cell_type": "code",
   "execution_count": 27,
   "id": "cfc4f1a7-7fe6-45f2-a72a-e7a6d7455e6f",
   "metadata": {},
   "outputs": [
    {
     "name": "stdout",
     "output_type": "stream",
     "text": [
      "False\n",
      "False\n",
      "True\n",
      "False\n",
      "False\n",
      "True\n"
     ]
    }
   ],
   "source": [
    "print((5>4) and (3==5))\n",
    "print(not(5>4))\n",
    "print((5>4) or (3==5))\n",
    "print(not((5>4) or (3==5)))\n",
    "print((True and True) and (True == False))\n",
    "print((not False) or (not True))"
   ]
  },
  {
   "cell_type": "markdown",
   "id": "a3919692-889d-470b-bd1e-45cd0d60d613",
   "metadata": {},
   "source": [
    "5. What are the six comparison operators?"
   ]
  },
  {
   "cell_type": "markdown",
   "id": "606d0b11-ea4c-4f00-b835-aab84fea6f92",
   "metadata": {},
   "source": [
    "ANS: ==, !=,>,<,<=,>="
   ]
  },
  {
   "cell_type": "markdown",
   "id": "565955dc-1098-4510-ad68-137615770c00",
   "metadata": {},
   "source": [
    "6. How do you tell the difference between the equal to and assignment operators?Describe a\n",
    "condition and when you would use one."
   ]
  },
  {
   "cell_type": "markdown",
   "id": "f5fc142c-e4e2-4c42-bda5-307bd3ef9978",
   "metadata": {},
   "source": [
    "ANS: '==' is equal to operate that  compare to two value and the result is boolen and '=' is assignment operators that store a value in variable"
   ]
  },
  {
   "cell_type": "code",
   "execution_count": 35,
   "id": "e456e5ea-6e87-4911-a73c-73c2667efda7",
   "metadata": {},
   "outputs": [
    {
     "name": "stdout",
     "output_type": "stream",
     "text": [
      "False\n",
      "hello python\n"
     ]
    }
   ],
   "source": [
    "if (5==6):     #equal to operate\n",
    "    print (\"True\")\n",
    "else:\n",
    "    print(\"False\")\n",
    "\n",
    "\n",
    "my_list = \"hello python\"    #assignment operators\n",
    "print(my_list)"
   ]
  },
  {
   "cell_type": "markdown",
   "id": "81c1e7d8-fd4d-4bd5-9289-7702a7879746",
   "metadata": {},
   "source": [
    "7. Identify the three blocks in this code:"
   ]
  },
  {
   "cell_type": "code",
   "execution_count": 40,
   "id": "fdd58934-e828-4cca-99e6-9ca75fe08ce7",
   "metadata": {},
   "outputs": [
    {
     "name": "stdout",
     "output_type": "stream",
     "text": [
      "ham\n",
      "spam\n",
      "spam\n"
     ]
    }
   ],
   "source": [
    "spam = 0\n",
    "if spam == 10: #block 1\n",
    "    print('eggs')\n",
    "if spam > 5:   #block 2\n",
    "    print('bacon')\n",
    "\n",
    "else:\n",
    "    print('ham')    #block 3\n",
    "    print('spam')\n",
    "    print('spam')"
   ]
  },
  {
   "cell_type": "markdown",
   "id": "106af701-01ea-44f2-bde0-e63bcc049ce5",
   "metadata": {},
   "source": [
    "8. Write code that prints Hello if 1 is stored in spam, prints Howdy if 2 is stored in spam, and prints\n",
    "Greetings! if anything else is stored in spam."
   ]
  },
  {
   "cell_type": "code",
   "execution_count": 47,
   "id": "327648b6-c2f1-4ce0-832a-eba058e75dd4",
   "metadata": {},
   "outputs": [
    {
     "name": "stdin",
     "output_type": "stream",
     "text": [
      "enter a number 3\n"
     ]
    },
    {
     "name": "stdout",
     "output_type": "stream",
     "text": [
      "Greetings\n"
     ]
    }
   ],
   "source": [
    "spam = int(input(\"enter a number\"))\n",
    "\n",
    "if spam ==1:\n",
    "    print(\"Hello\")\n",
    "elif spam ==2:\n",
    "    print(\"Howdy\")\n",
    "else:\n",
    "    print(\"Greetings\")"
   ]
  },
  {
   "cell_type": "markdown",
   "id": "7fccdec0-549b-4453-b5fb-38855afe0a85",
   "metadata": {},
   "source": [
    "9.If your programme is stuck in an endless loop, what keys you’ll press?"
   ]
  },
  {
   "cell_type": "markdown",
   "id": "88b7a6fe-155e-4311-89f5-c38ccd37c2cc",
   "metadata": {},
   "source": [
    "ANS: if programme is stuck in an endless loop than we press CTRL+ C"
   ]
  },
  {
   "cell_type": "markdown",
   "id": "1a6c66a3-19ce-4af0-ab2b-a8f32f69ccb6",
   "metadata": {},
   "source": [
    "10. How can you tell the difference between break and continue?"
   ]
  },
  {
   "cell_type": "code",
   "execution_count": 58,
   "id": "d41629d9-aba8-475d-8166-d80b8893d597",
   "metadata": {},
   "outputs": [
    {
     "name": "stdout",
     "output_type": "stream",
     "text": [
      "1\n",
      "2\n",
      "3\n",
      "4\n",
      "5\n",
      "6\n",
      "7\n"
     ]
    }
   ],
   "source": [
    "#use of break\n",
    "\n",
    "for item in range(1,10):\n",
    "    if (item==8):\n",
    "        break\n",
    "    print(item)\n",
    "        \n",
    "        \n"
   ]
  },
  {
   "cell_type": "code",
   "execution_count": 66,
   "id": "bd4e91e6-b317-43b7-80da-37c213c987a7",
   "metadata": {},
   "outputs": [
    {
     "name": "stdout",
     "output_type": "stream",
     "text": [
      "1\n",
      "2\n",
      "3\n",
      "4\n",
      "5\n",
      "6\n",
      "8\n",
      "9\n"
     ]
    }
   ],
   "source": [
    "# use of continue\n",
    "\n",
    "for item in range (1,10):\n",
    "    if(item==7):\n",
    "        continue\n",
    "    print(item)"
   ]
  },
  {
   "cell_type": "markdown",
   "id": "73801a33-97a2-44cc-a915-e4d75189db3c",
   "metadata": {},
   "source": [
    "the break statement will move the execution outside and just after a loop and the continue statement will move the execution \n",
    "to the start of the loop"
   ]
  },
  {
   "cell_type": "markdown",
   "id": "8489ebd0-5c11-4031-8151-3d530ce0a484",
   "metadata": {},
   "source": [
    "11. In a for loop, what is the difference between range(10), range(0, 10), and range(0, 10, 1)?"
   ]
  },
  {
   "cell_type": "code",
   "execution_count": null,
   "id": "fe5d6ee1-baf6-4d12-aee6-57dbb9b8f9f6",
   "metadata": {},
   "outputs": [],
   "source": [
    "ans: there is no diffence in range (10), range(0,10), range(0,10,1), all are obtain same result"
   ]
  },
  {
   "cell_type": "code",
   "execution_count": 70,
   "id": "5347b117-9b78-4e04-a15a-4b02b4c0e151",
   "metadata": {},
   "outputs": [
    {
     "name": "stdout",
     "output_type": "stream",
     "text": [
      "0\n",
      "1\n",
      "2\n",
      "3\n",
      "4\n",
      "5\n",
      "6\n",
      "7\n",
      "8\n",
      "9\n",
      "xxxxxxxxxxxxxxxxxx\n",
      "0\n",
      "1\n",
      "2\n",
      "3\n",
      "4\n",
      "5\n",
      "6\n",
      "7\n",
      "8\n",
      "9\n",
      "XXXXXXXXXXXXXXXXXXX\n",
      "0\n",
      "1\n",
      "2\n",
      "3\n",
      "4\n",
      "5\n",
      "6\n",
      "7\n",
      "8\n",
      "9\n"
     ]
    }
   ],
   "source": [
    "for item in range(10):\n",
    "    print(item)\n",
    "print(\"xxxxxxxxxxxxxxxxxx\")\n",
    "for item in range (0,10):\n",
    "    print(item)\n",
    "print(\"XXXXXXXXXXXXXXXXXXX\")\n",
    "for item in range (0,10,1):\n",
    "    print(item)\n",
    "\n"
   ]
  },
  {
   "cell_type": "markdown",
   "id": "a6346cb6-0b06-4872-a7ae-4009efbe3ef2",
   "metadata": {},
   "source": [
    "12. Write a short program that prints the numbers 1 to 10 using a for loop. Then write an equivalent\n",
    "program that prints the numbers 1 to 10 using a while loop."
   ]
  },
  {
   "cell_type": "code",
   "execution_count": 73,
   "id": "d52e2f82-6006-4d1e-acef-52d712de6008",
   "metadata": {},
   "outputs": [
    {
     "name": "stdout",
     "output_type": "stream",
     "text": [
      "1\n",
      "2\n",
      "3\n",
      "4\n",
      "5\n",
      "6\n",
      "7\n",
      "8\n",
      "9\n",
      "10\n"
     ]
    }
   ],
   "source": [
    "# for loop\n",
    "\n",
    "for i in range (1,11):\n",
    "    print(i)"
   ]
  },
  {
   "cell_type": "code",
   "execution_count": 75,
   "id": "db4c16c1-5018-4672-9e50-186031bf6660",
   "metadata": {},
   "outputs": [
    {
     "name": "stdout",
     "output_type": "stream",
     "text": [
      "1\n",
      "2\n",
      "3\n",
      "4\n",
      "5\n",
      "6\n",
      "7\n",
      "8\n",
      "9\n",
      "10\n"
     ]
    }
   ],
   "source": [
    "# while loop\n",
    "a =1\n",
    "while a<=10:\n",
    "    print(a)\n",
    "    a+=1\n",
    "\n"
   ]
  },
  {
   "cell_type": "markdown",
   "id": "64be109a-5467-4778-85e9-250ad26a20d7",
   "metadata": {},
   "source": [
    "13. If you had a function named bacon() inside a module named spam, how would you call it after\n",
    "importing spam?"
   ]
  },
  {
   "cell_type": "markdown",
   "id": "1a187272-2eb2-45e3-b57a-c2af364d8475",
   "metadata": {},
   "source": [
    "ANS: this function can be called as spam.bacon()"
   ]
  },
  {
   "cell_type": "code",
   "execution_count": null,
   "id": "b6da81e7-9e73-415d-8674-ec73029cf089",
   "metadata": {},
   "outputs": [],
   "source": []
  }
 ],
 "metadata": {
  "kernelspec": {
   "display_name": "Python 3 (ipykernel)",
   "language": "python",
   "name": "python3"
  },
  "language_info": {
   "codemirror_mode": {
    "name": "ipython",
    "version": 3
   },
   "file_extension": ".py",
   "mimetype": "text/x-python",
   "name": "python",
   "nbconvert_exporter": "python",
   "pygments_lexer": "ipython3",
   "version": "3.12.4"
  }
 },
 "nbformat": 4,
 "nbformat_minor": 5
}
